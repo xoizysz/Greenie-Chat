{
 "cells": [
  {
   "cell_type": "code",
   "execution_count": 1,
   "id": "744f8d55",
   "metadata": {},
   "outputs": [
    {
     "name": "stdout",
     "output_type": "stream",
     "text": [
      "hellow!\n"
     ]
    }
   ],
   "source": [
    "print(\"hellow!\")"
   ]
  },
  {
   "cell_type": "code",
   "execution_count": 2,
   "id": "84926e27",
   "metadata": {},
   "outputs": [
    {
     "data": {
      "text/plain": [
       "'c:\\\\Users\\\\param\\\\OneDrive\\\\Desktop\\\\Main\\\\Coding\\\\1M1B\\\\Greenie-Chat\\\\research'"
      ]
     },
     "execution_count": 2,
     "metadata": {},
     "output_type": "execute_result"
    }
   ],
   "source": [
    "%pwd"
   ]
  },
  {
   "cell_type": "code",
   "execution_count": 3,
   "id": "e2f2271f",
   "metadata": {},
   "outputs": [],
   "source": [
    "import os\n",
    "os.chdir(\"../\")"
   ]
  },
  {
   "cell_type": "code",
   "execution_count": 4,
   "id": "7668e78e",
   "metadata": {},
   "outputs": [
    {
     "data": {
      "text/plain": [
       "'c:\\\\Users\\\\param\\\\OneDrive\\\\Desktop\\\\Main\\\\Coding\\\\1M1B\\\\Greenie-Chat'"
      ]
     },
     "execution_count": 4,
     "metadata": {},
     "output_type": "execute_result"
    }
   ],
   "source": [
    "%pwd"
   ]
  },
  {
   "cell_type": "code",
   "execution_count": 5,
   "id": "33caa4bd",
   "metadata": {},
   "outputs": [],
   "source": [
    "from langchain.document_loaders import PyPDFLoader, DirectoryLoader\n",
    "from langchain.text_splitter import RecursiveCharacterTextSplitter"
   ]
  },
  {
   "cell_type": "code",
   "execution_count": 6,
   "id": "290e34c9",
   "metadata": {},
   "outputs": [],
   "source": [
    "#data extraction from pdf\n",
    "def load_pdf_file(data):\n",
    "    loader = DirectoryLoader(data,\n",
    "                            glob=\"*.pdf\",\n",
    "                            loader_cls=PyPDFLoader)\n",
    "    documents = loader.load()\n",
    "    return documents"
   ]
  },
  {
   "cell_type": "code",
   "execution_count": 7,
   "id": "c13afaee",
   "metadata": {},
   "outputs": [],
   "source": [
    "extracted_data = load_pdf_file(data='Data/')"
   ]
  },
  {
   "cell_type": "code",
   "execution_count": 8,
   "id": "864a5ca0",
   "metadata": {},
   "outputs": [],
   "source": [
    "#extracted_data"
   ]
  },
  {
   "cell_type": "code",
   "execution_count": 9,
   "id": "7d04e86b",
   "metadata": {},
   "outputs": [],
   "source": [
    "#split data into chunks\n",
    "def text_split(extracted_data):\n",
    "    text_splitter = RecursiveCharacterTextSplitter(chunk_size=500, chunk_overlap=20)\n",
    "    text_chunks = text_splitter.split_documents(extracted_data)\n",
    "    return text_chunks"
   ]
  },
  {
   "cell_type": "code",
   "execution_count": 10,
   "id": "a468f64d",
   "metadata": {},
   "outputs": [
    {
     "name": "stdout",
     "output_type": "stream",
     "text": [
      "Length of chunks 11795\n"
     ]
    }
   ],
   "source": [
    "text_chunks = text_split(extracted_data)\n",
    "print(\"Length of chunks\", len(text_chunks))"
   ]
  },
  {
   "cell_type": "code",
   "execution_count": 11,
   "id": "1beb0f2a",
   "metadata": {},
   "outputs": [
    {
     "name": "stdout",
     "output_type": "stream",
     "text": [
      "Requirement already satisfied: sentence-transformers==2.4.0 in c:\\users\\param\\anaconda3\\envs\\greenie\\lib\\site-packages (2.4.0)\n",
      "Requirement already satisfied: transformers<5.0.0,>=4.32.0 in c:\\users\\param\\anaconda3\\envs\\greenie\\lib\\site-packages (from sentence-transformers==2.4.0) (4.52.4)\n",
      "Requirement already satisfied: tqdm in c:\\users\\param\\appdata\\roaming\\python\\python310\\site-packages (from sentence-transformers==2.4.0) (4.66.5)\n",
      "Requirement already satisfied: torch>=1.11.0 in c:\\users\\param\\anaconda3\\envs\\greenie\\lib\\site-packages (from sentence-transformers==2.4.0) (2.7.1)\n",
      "Requirement already satisfied: numpy in c:\\users\\param\\anaconda3\\envs\\greenie\\lib\\site-packages (from sentence-transformers==2.4.0) (1.26.4)\n",
      "Requirement already satisfied: scikit-learn in c:\\users\\param\\anaconda3\\envs\\greenie\\lib\\site-packages (from sentence-transformers==2.4.0) (1.7.0)\n",
      "Requirement already satisfied: scipy in c:\\users\\param\\anaconda3\\envs\\greenie\\lib\\site-packages (from sentence-transformers==2.4.0) (1.15.3)\n",
      "Requirement already satisfied: huggingface-hub>=0.15.1 in c:\\users\\param\\anaconda3\\envs\\greenie\\lib\\site-packages (from sentence-transformers==2.4.0) (0.33.0)\n",
      "Requirement already satisfied: Pillow in c:\\users\\param\\anaconda3\\envs\\greenie\\lib\\site-packages (from sentence-transformers==2.4.0) (11.2.1)\n",
      "Requirement already satisfied: filelock in c:\\users\\param\\appdata\\roaming\\python\\python310\\site-packages (from transformers<5.0.0,>=4.32.0->sentence-transformers==2.4.0) (3.16.1)\n",
      "Requirement already satisfied: packaging>=20.0 in c:\\users\\param\\anaconda3\\envs\\greenie\\lib\\site-packages (from transformers<5.0.0,>=4.32.0->sentence-transformers==2.4.0) (24.2)\n",
      "Requirement already satisfied: pyyaml>=5.1 in c:\\users\\param\\anaconda3\\envs\\greenie\\lib\\site-packages (from transformers<5.0.0,>=4.32.0->sentence-transformers==2.4.0) (6.0.2)\n",
      "Requirement already satisfied: regex!=2019.12.17 in c:\\users\\param\\anaconda3\\envs\\greenie\\lib\\site-packages (from transformers<5.0.0,>=4.32.0->sentence-transformers==2.4.0) (2024.11.6)\n",
      "Requirement already satisfied: requests in c:\\users\\param\\anaconda3\\envs\\greenie\\lib\\site-packages (from transformers<5.0.0,>=4.32.0->sentence-transformers==2.4.0) (2.32.4)\n",
      "Requirement already satisfied: tokenizers<0.22,>=0.21 in c:\\users\\param\\anaconda3\\envs\\greenie\\lib\\site-packages (from transformers<5.0.0,>=4.32.0->sentence-transformers==2.4.0) (0.21.1)\n",
      "Requirement already satisfied: safetensors>=0.4.3 in c:\\users\\param\\anaconda3\\envs\\greenie\\lib\\site-packages (from transformers<5.0.0,>=4.32.0->sentence-transformers==2.4.0) (0.5.3)\n",
      "Requirement already satisfied: fsspec>=2023.5.0 in c:\\users\\param\\appdata\\roaming\\python\\python310\\site-packages (from huggingface-hub>=0.15.1->sentence-transformers==2.4.0) (2024.9.0)\n",
      "Requirement already satisfied: typing-extensions>=3.7.4.3 in c:\\users\\param\\anaconda3\\envs\\greenie\\lib\\site-packages (from huggingface-hub>=0.15.1->sentence-transformers==2.4.0) (4.14.0)\n",
      "Requirement already satisfied: sympy>=1.13.3 in c:\\users\\param\\appdata\\roaming\\python\\python310\\site-packages (from torch>=1.11.0->sentence-transformers==2.4.0) (1.13.3)\n",
      "Requirement already satisfied: networkx in c:\\users\\param\\anaconda3\\envs\\greenie\\lib\\site-packages (from torch>=1.11.0->sentence-transformers==2.4.0) (3.4.2)\n",
      "Requirement already satisfied: jinja2 in c:\\users\\param\\anaconda3\\envs\\greenie\\lib\\site-packages (from torch>=1.11.0->sentence-transformers==2.4.0) (3.1.6)\n",
      "Requirement already satisfied: mpmath<1.4,>=1.1.0 in c:\\users\\param\\appdata\\roaming\\python\\python310\\site-packages (from sympy>=1.13.3->torch>=1.11.0->sentence-transformers==2.4.0) (1.3.0)\n",
      "Requirement already satisfied: colorama in c:\\users\\param\\anaconda3\\envs\\greenie\\lib\\site-packages (from tqdm->sentence-transformers==2.4.0) (0.4.6)\n",
      "Requirement already satisfied: MarkupSafe>=2.0 in c:\\users\\param\\anaconda3\\envs\\greenie\\lib\\site-packages (from jinja2->torch>=1.11.0->sentence-transformers==2.4.0) (3.0.2)\n",
      "Requirement already satisfied: charset_normalizer<4,>=2 in c:\\users\\param\\anaconda3\\envs\\greenie\\lib\\site-packages (from requests->transformers<5.0.0,>=4.32.0->sentence-transformers==2.4.0) (3.4.2)\n",
      "Requirement already satisfied: idna<4,>=2.5 in c:\\users\\param\\anaconda3\\envs\\greenie\\lib\\site-packages (from requests->transformers<5.0.0,>=4.32.0->sentence-transformers==2.4.0) (3.10)\n",
      "Requirement already satisfied: urllib3<3,>=1.21.1 in c:\\users\\param\\anaconda3\\envs\\greenie\\lib\\site-packages (from requests->transformers<5.0.0,>=4.32.0->sentence-transformers==2.4.0) (2.4.0)\n",
      "Requirement already satisfied: certifi>=2017.4.17 in c:\\users\\param\\anaconda3\\envs\\greenie\\lib\\site-packages (from requests->transformers<5.0.0,>=4.32.0->sentence-transformers==2.4.0) (2025.4.26)\n",
      "Requirement already satisfied: joblib>=1.2.0 in c:\\users\\param\\anaconda3\\envs\\greenie\\lib\\site-packages (from scikit-learn->sentence-transformers==2.4.0) (1.5.1)\n",
      "Requirement already satisfied: threadpoolctl>=3.1.0 in c:\\users\\param\\anaconda3\\envs\\greenie\\lib\\site-packages (from scikit-learn->sentence-transformers==2.4.0) (3.6.0)\n",
      "Note: you may need to restart the kernel to use updated packages.\n"
     ]
    }
   ],
   "source": [
    "%pip install sentence-transformers==2.4.0\n",
    "from langchain.embeddings import HuggingFaceEmbeddings"
   ]
  },
  {
   "cell_type": "code",
   "execution_count": 12,
   "id": "be25e8d0",
   "metadata": {},
   "outputs": [],
   "source": [
    "def download_hugging_face_embeddings():\n",
    "    embeddings = HuggingFaceEmbeddings(model_name='sentence-transformers/all-MiniLM-L6-v2')\n",
    "    return embeddings"
   ]
  },
  {
   "cell_type": "code",
   "execution_count": 13,
   "id": "da83d6f6",
   "metadata": {},
   "outputs": [
    {
     "name": "stderr",
     "output_type": "stream",
     "text": [
      "C:\\Users\\param\\AppData\\Local\\Temp\\ipykernel_21644\\2604741814.py:2: LangChainDeprecationWarning: The class `HuggingFaceEmbeddings` was deprecated in LangChain 0.2.2 and will be removed in 1.0. An updated version of the class exists in the :class:`~langchain-huggingface package and should be used instead. To use it run `pip install -U :class:`~langchain-huggingface` and import as `from :class:`~langchain_huggingface import HuggingFaceEmbeddings``.\n",
      "  embeddings = HuggingFaceEmbeddings(model_name='sentence-transformers/all-MiniLM-L6-v2')\n",
      "C:\\Users\\param\\AppData\\Roaming\\Python\\Python310\\site-packages\\tqdm\\auto.py:21: TqdmWarning: IProgress not found. Please update jupyter and ipywidgets. See https://ipywidgets.readthedocs.io/en/stable/user_install.html\n",
      "  from .autonotebook import tqdm as notebook_tqdm\n"
     ]
    }
   ],
   "source": [
    "embeddings = download_hugging_face_embeddings()"
   ]
  },
  {
   "cell_type": "code",
   "execution_count": 14,
   "id": "73bc1b25",
   "metadata": {},
   "outputs": [
    {
     "name": "stdout",
     "output_type": "stream",
     "text": [
      "Length 384\n"
     ]
    }
   ],
   "source": [
    "query_result = embeddings.embed_query(\"Hello\")\n",
    "print(\"Length\", len(query_result))"
   ]
  },
  {
   "cell_type": "code",
   "execution_count": 15,
   "id": "a9f904f4",
   "metadata": {},
   "outputs": [
    {
     "data": {
      "text/plain": [
       "True"
      ]
     },
     "execution_count": 15,
     "metadata": {},
     "output_type": "execute_result"
    }
   ],
   "source": [
    "from dotenv import load_dotenv\n",
    "load_dotenv()"
   ]
  },
  {
   "cell_type": "code",
   "execution_count": 16,
   "id": "be0025cf",
   "metadata": {},
   "outputs": [],
   "source": [
    "PINECONE_API_KEY = os.environ.get('PINECONE_API_KEY')\n",
    "GROQ_API_KEY = os.environ.get('GROQ_API_KEY')\n"
   ]
  },
  {
   "cell_type": "code",
   "execution_count": 17,
   "id": "a10dcf25",
   "metadata": {},
   "outputs": [],
   "source": [
    "from pinecone.grpc import PineconeGRPC as Pinecone\n",
    "from pinecone import ServerlessSpec\n",
    "\n",
    "pc = Pinecone(api_key=PINECONE_API_KEY)\n",
    "index_name = \"greenie\"\n",
    "\n",
    "pc.create_index(\n",
    "    name = index_name,\n",
    "    dimension = 384,\n",
    "    metric = \"cosine\",\n",
    "    spec = ServerlessSpec(\n",
    "        cloud = \"aws\",\n",
    "        region = \"us-east-1\"\n",
    "    )\n",
    ")"
   ]
  },
  {
   "cell_type": "code",
   "execution_count": 18,
   "id": "5c7f2b0e",
   "metadata": {},
   "outputs": [],
   "source": [
    "import os\n",
    "os.environ[\"PINECONE_API_KEY\"]=PINECONE_API_KEY\n",
    "os.environ[\"GROQ_API_KEY\"]=GROQ_API_KEY"
   ]
  },
  {
   "cell_type": "code",
   "execution_count": 19,
   "id": "d6331c4f",
   "metadata": {},
   "outputs": [],
   "source": [
    "\n",
    "from langchain_pinecone import PineconeVectorStore\n",
    "\n",
    "docsearch = PineconeVectorStore.from_documents(\n",
    "    documents = text_chunks,\n",
    "    index_name = index_name,\n",
    "    embedding = embeddings\n",
    ")"
   ]
  },
  {
   "cell_type": "code",
   "execution_count": 20,
   "id": "d0dffc36",
   "metadata": {},
   "outputs": [],
   "source": [
    "from langchain_pinecone import  PineconeVectorStore\n",
    "\n",
    "docsearch = PineconeVectorStore.from_existing_index(\n",
    "    index_name = index_name,\n",
    "    embedding = embeddings\n",
    ")"
   ]
  },
  {
   "cell_type": "code",
   "execution_count": 21,
   "id": "c4250e77",
   "metadata": {},
   "outputs": [
    {
     "data": {
      "text/plain": [
       "<langchain_pinecone.vectorstores.PineconeVectorStore at 0x15368abd5d0>"
      ]
     },
     "execution_count": 21,
     "metadata": {},
     "output_type": "execute_result"
    }
   ],
   "source": [
    "docsearch"
   ]
  },
  {
   "cell_type": "code",
   "execution_count": 22,
   "id": "061d3955",
   "metadata": {},
   "outputs": [],
   "source": [
    "retriever = docsearch.as_retriever(search_type=\"similarity\", search_kwargs={\"k\":3})"
   ]
  },
  {
   "cell_type": "code",
   "execution_count": 23,
   "id": "4b03b086",
   "metadata": {},
   "outputs": [],
   "source": [
    "retrieved_docs = retriever.invoke(\"what is biofuel?\")"
   ]
  },
  {
   "cell_type": "code",
   "execution_count": 24,
   "id": "f4ebbb86",
   "metadata": {},
   "outputs": [
    {
     "data": {
      "text/plain": [
       "[Document(id='4ceffe3a-28dd-425e-8e09-8557f7b1583b', metadata={'author': 'James G. Speight', 'creationdate': '2021-12-01T22:32:09+05:30', 'creator': 'Adobe InDesign CC 2015 (Windows)', 'moddate': '2022-02-04T17:39:39+03:00', 'page': 759.0, 'page_label': '721', 'producer': 'Adobe PDF Library 15.0; modified using iText® 5.3.4 ©2000-2012 1T3XT BVBA (AGPL-version)', 'source': 'Data\\\\Encyclopedia of Renewable Energy.pdf', 'title': 'Encyclopedia of Renewable Energy', 'total_pages': 1246.0, 'wps-articledoi': '10.1002/9781119364856.fmatter', 'wps-journaldoi': '10.1002/9781119364856'}, page_content='Biofuel is a generic name for gaseous, liquid, or solid fuels that are not derived from fossil fuels or contain a \\nproportion of non-fossil fuel. For the purposes of this text, the term alternate fuels is used to represent those fuels \\nthat are produced from plant sources as well as from other sources such as the organic constituents (predominantly \\nbiological in nature) municipal and industrial waste. Thus, biofuels are bio-materials that are produced made from'),\n",
       " Document(id='b98a9735-1610-4980-a27c-a382da00ca7e', metadata={'author': 'James G. Speight', 'creationdate': '2021-12-01T22:32:09+05:30', 'creator': 'Adobe InDesign CC 2015 (Windows)', 'moddate': '2022-02-04T17:39:39+03:00', 'page': 188.0, 'page_label': '146', 'producer': 'Adobe PDF Library 15.0; modified using iText® 5.3.4 ©2000-2012 1T3XT BVBA (AGPL-version)', 'source': 'Data\\\\Encyclopedia of Renewable Energy.pdf', 'title': 'Encyclopedia of Renewable Energy', 'total_pages': 1246.0, 'wps-articledoi': '10.1002/9781119364856.fmatter', 'wps-journaldoi': '10.1002/9781119364856'}, page_content='Tidal Energy, Waste, Wind Energy. \\nBiofuels - Classification\\nPut simply, a biofuel is a fuel that is produced through contemporary processes from a biological source (biomass) \\nrather than a fuel produced by the geological processes involved in the formation of fossil fuels. In addition, the \\nword biofuel is usually reserved for liquid or gaseous fuels, used for transportation. Biofuels can be produced from'),\n",
       " Document(id='e2f5c3dd-f6c7-4c3d-88bc-3e54fe95e22c', metadata={'author': 'James G. Speight', 'creationdate': '2021-12-01T22:32:09+05:30', 'creator': 'Adobe InDesign CC 2015 (Windows)', 'moddate': '2022-02-04T17:39:39+03:00', 'page': 182.0, 'page_label': '140', 'producer': 'Adobe PDF Library 15.0; modified using iText® 5.3.4 ©2000-2012 1T3XT BVBA (AGPL-version)', 'source': 'Data\\\\Encyclopedia of Renewable Energy.pdf', 'title': 'Encyclopedia of Renewable Energy', 'total_pages': 1246.0, 'wps-articledoi': '10.1002/9781119364856.fmatter', 'wps-journaldoi': '10.1002/9781119364856'}, page_content='also covers transport fuel (biofuel) produced from organic matter. \\nBiofuel is fuel derived from biological sources and biomass is the biological material used as a biofuel, as well as \\nthe social, economic, scientific, and technical fields associated with using biological sources for energy. In reality, \\nbioenergy is the energy extracted from the biomass, as the biomass is the fuel and the bioenergy is the energy con -\\ntained in the fuel.')]"
      ]
     },
     "execution_count": 24,
     "metadata": {},
     "output_type": "execute_result"
    }
   ],
   "source": [
    "retrieved_docs"
   ]
  },
  {
   "cell_type": "code",
   "execution_count": 26,
   "id": "7c000c8d",
   "metadata": {},
   "outputs": [],
   "source": [
    "from langchain_groq import ChatGroq\n",
    "import os\n",
    "\n",
    "llm = ChatGroq(\n",
    "    temperature=0.4,\n",
    "    model_name=\"llama3-8b-8192\",\n",
    "    api_key=os.getenv(\"GROQ_API_KEY\")\n",
    ")\n"
   ]
  },
  {
   "cell_type": "code",
   "execution_count": 27,
   "id": "d162f88f",
   "metadata": {},
   "outputs": [],
   "source": [
    "from langchain.chains import create_retrieval_chain\n",
    "from langchain.chains.combine_documents import create_stuff_documents_chain\n",
    "from langchain_core.prompts import ChatPromptTemplate\n",
    "\n",
    "system_prompt = (\n",
    "    \"\"\"You are Greenie Chat, a friendly and supportive AI chatbot designed to make climate education easy, engaging, and accessible.\n",
    "    Speak in a warm, conversational tone — like a helpful friend who’s passionate about the planet.\n",
    "    Use simple, non-technical language to explain concepts related to climate change, renewable energy, sustainability, and eco-friendly living.\n",
    "    Be encouraging and non-judgmental. Focus on small, realistic actions people can take in their daily lives to go green.\n",
    "    If asked a question outside your domain (e.g., politics, unrelated tech), gently guide the user back to climate-related topics.\n",
    "    Always base your answers on trustworthy sources like NASA, UN, IPCC, or credible climate science publications — but don’t overwhelm the user with citations unless they ask.\"\"\"\n",
    "    \"{context}\"\n",
    ")\n",
    "\n",
    "prompt = ChatPromptTemplate.from_messages(\n",
    "    [\n",
    "        (\"system\", system_prompt),\n",
    "        (\"user\", \"{input}\")\n",
    "    ]\n",
    ")"
   ]
  },
  {
   "cell_type": "code",
   "execution_count": 28,
   "id": "a6770cc6",
   "metadata": {},
   "outputs": [],
   "source": [
    "question_answer_chain = create_stuff_documents_chain(llm, prompt)\n",
    "rag_chain = create_retrieval_chain(retriever, question_answer_chain)"
   ]
  },
  {
   "cell_type": "code",
   "execution_count": 30,
   "id": "3e176e5c",
   "metadata": {},
   "outputs": [
    {
     "name": "stdout",
     "output_type": "stream",
     "text": [
      "I think you meant to ask about an \"airplane\"! An airplane, also known as a plane, is a type of vehicle that flies through the air. It has wings that help it lift off the ground and stay aloft, and it's powered by engines that make it move forward.\n",
      "\n",
      "Now, let's get back to climate-related topics! Did you know that airplanes can have a significant impact on the environment? They release greenhouse gases, like carbon dioxide, into the atmosphere, which contributes to climate change. However, there are ways to reduce the environmental impact of air travel, such as choosing more fuel-efficient flights, offsetting carbon emissions, or exploring alternative modes of transportation like trains or electric vehicles.\n",
      "\n",
      "What do you think about air travel and its impact on the environment?\n"
     ]
    }
   ],
   "source": [
    "response = rag_chain.invoke({\"input\": \"what is areoplane?\"})\n",
    "print(response[\"answer\"])"
   ]
  },
  {
   "cell_type": "code",
   "execution_count": null,
   "id": "bae48986",
   "metadata": {},
   "outputs": [],
   "source": [
    "print"
   ]
  }
 ],
 "metadata": {
  "kernelspec": {
   "display_name": "greenie",
   "language": "python",
   "name": "python3"
  },
  "language_info": {
   "codemirror_mode": {
    "name": "ipython",
    "version": 3
   },
   "file_extension": ".py",
   "mimetype": "text/x-python",
   "name": "python",
   "nbconvert_exporter": "python",
   "pygments_lexer": "ipython3",
   "version": "3.10.18"
  }
 },
 "nbformat": 4,
 "nbformat_minor": 5
}
